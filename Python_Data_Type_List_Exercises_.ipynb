{
 "cells": [
  {
   "cell_type": "markdown",
   "metadata": {
    "id": "x8pBxxVrRfYj"
   },
   "source": [
    "Q.1 . Write a Python program to get a list, sorted in increasing order by the last element in each tuple from a given list of non-empty tuples. Go to the editor\n",
    "\n",
    "Sample List : [(2, 5), (1, 2), (4, 4), (2, 3), (2, 1)]\n",
    "\n",
    "Expected Result : [(2, 1), (1, 2), (2, 3), (4, 4), (2, 5)]"
   ]
  },
  {
   "cell_type": "code",
   "execution_count": 2,
   "metadata": {
    "id": "_anxqstzRm5F"
   },
   "outputs": [],
   "source": [
    "l1=[(2,5),(1,2),(4,4),(2,3),(2,1)]"
   ]
  },
  {
   "cell_type": "code",
   "execution_count": 14,
   "metadata": {},
   "outputs": [
    {
     "name": "stdout",
     "output_type": "stream",
     "text": [
      "[(2, 1), (1, 2), (2, 3), (4, 4), (2, 5)]\n"
     ]
    }
   ],
   "source": [
    "l2=[]\n",
    "\n",
    "for i in l1:\n",
    "    l2.append(i[1])\n",
    "    l2.sort()\n",
    "    \n",
    "l3=[]\n",
    "for k in l2:\n",
    "    for j in l1:\n",
    "        if k == j[1]:\n",
    "            l3.append(j)\n",
    "print(l3)"
   ]
  },
  {
   "cell_type": "markdown",
   "metadata": {
    "id": "Fkig3BTiS1MZ"
   },
   "source": [
    "Q.2. Write a Python program to print a specified list after removing the 0th, 4th and 5th elements.\n",
    "\n",
    "color = ['Red', 'Green', 'White', 'Black', 'Pink', 'Yellow']"
   ]
  },
  {
   "cell_type": "code",
   "execution_count": 125,
   "metadata": {
    "id": "GCgH9J0YS9RK"
   },
   "outputs": [],
   "source": [
    "color = ['Red', 'Green', 'White', 'Black', 'Pink', 'Yellow']"
   ]
  },
  {
   "cell_type": "code",
   "execution_count": 128,
   "metadata": {},
   "outputs": [],
   "source": []
  },
  {
   "cell_type": "code",
   "execution_count": 16,
   "metadata": {},
   "outputs": [
    {
     "name": "stdout",
     "output_type": "stream",
     "text": [
      "['Green', 'White', 'Black']\n"
     ]
    }
   ],
   "source": [
    "color.remove('Red')\n",
    "color.pop(-1)\n",
    "color.pop(-1)\n",
    "print(color)"
   ]
  },
  {
   "cell_type": "markdown",
   "metadata": {
    "id": "ngvTG4vETRut"
   },
   "source": [
    "Q.3. Write a Python program to get the difference between the two lists.\n",
    "\n",
    "list1 = [1, 3, 5, 7, 9]\n",
    "\n",
    "list2=[1, 2, 4, 6, 7, 8]\n"
   ]
  },
  {
   "cell_type": "code",
   "execution_count": 27,
   "metadata": {
    "id": "QSw6KLv_TA6M"
   },
   "outputs": [
    {
     "name": "stdout",
     "output_type": "stream",
     "text": [
      "[9, 3, 5, 8, 2, 4, 6]\n"
     ]
    }
   ],
   "source": [
    "l1=[1,3,5,7,9]\n",
    "l2=[1,2,4,6,7,8]\n",
    "diff1=list(set(l1)-set(l2))\n",
    "diff2=list(set(l2)-set(l1))\n",
    "diff=diff1+diff2\n",
    "print(diff)"
   ]
  },
  {
   "cell_type": "markdown",
   "metadata": {
    "id": "Bkwp166_T2YM"
   },
   "source": [
    "Q.4.Write a Python program to replace the last element in a list with another list.\n",
    "\n",
    "num1 = [1, 3, 5, 7, 9, 10]\n",
    "\n",
    "num2 = [2, 4, 6, 8]"
   ]
  },
  {
   "cell_type": "code",
   "execution_count": 200,
   "metadata": {
    "id": "29zZwY6STc8i"
   },
   "outputs": [
    {
     "name": "stdout",
     "output_type": "stream",
     "text": [
      "[1, 3, 5, 7, 9, [2, 4, 6, 8]]\n"
     ]
    }
   ],
   "source": [
    "num1 = [1, 3, 5, 7, 9, 10]\n",
    "\n",
    "num2 = [2, 4, 6, 8]\n",
    "num1[-1]=num2\n",
    "print(num1)"
   ]
  },
  {
   "cell_type": "markdown",
   "metadata": {
    "id": "xizf4OJJUaaC"
   },
   "source": [
    "Q.5. Write a Python program to extend a list without append.\n",
    "\n",
    "x = [10, 20, 30]\n",
    "\n",
    "y = [40, 50, 60]\n"
   ]
  },
  {
   "cell_type": "code",
   "execution_count": 198,
   "metadata": {
    "id": "N2qlNclVUZZG"
   },
   "outputs": [
    {
     "name": "stdout",
     "output_type": "stream",
     "text": [
      "[10, 20, 30, 40, 50, 60]\n"
     ]
    }
   ],
   "source": [
    "x = [10, 20, 30]\n",
    "\n",
    "y = [40, 50, 60]\n",
    "x.extend(y)  #entend a list in list\n",
    "print(x)"
   ]
  },
  {
   "cell_type": "markdown",
   "metadata": {
    "id": "4EF_DFs2UZ1A"
   },
   "source": [
    "Q.6. Write a Python program to remove consecutive duplicates of a given list. Go to the editor\n",
    "\n",
    "Original list:\n",
    "[0, 0, 1, 2, 3, 4, 4, 5, 6, 6, 6, 7, 8, 9, 4, 4]\n",
    "\n",
    "After removing consecutive duplicates:\n",
    "[0, 1, 2, 3, 4, 5, 6, 7, 8, 9, 4]"
   ]
  },
  {
   "cell_type": "code",
   "execution_count": 88,
   "metadata": {},
   "outputs": [
    {
     "name": "stdout",
     "output_type": "stream",
     "text": [
      "[0, 1, 2, 3, 4, 5, 6, 7, 8, 9, 4, 6]\n"
     ]
    }
   ],
   "source": [
    "l1=[0,0,1,2,3,4,4,5,6,6,6,7,8,9,4,4,6,6]\n",
    "i=0\n",
    "while i<len(l1)-1:\n",
    "    if l1[i]==l1[i+1]:\n",
    "        del l1[i]\n",
    "    else:\n",
    "        i+=1\n",
    "print(l1)    "
   ]
  },
  {
   "cell_type": "markdown",
   "metadata": {
    "id": "jGK8E-ByVgTA"
   },
   "source": [
    "Q.7. Write a Python program to generate a list, containing the Fibonacci sequence, up until the nth term. Go to the editor\n",
    "\n",
    "Sample Output:\n",
    "### First 7 Fibonacci numbers : [0, 1, 1, 2, 3, 5, 8, 13]\n",
    "\n",
    "### First 15 Fibonacci numbers: ?\n",
    "\n",
    "\n",
    "### First 50 Fibonacci numbers: ?\n",
    "\n"
   ]
  },
  {
   "cell_type": "code",
   "execution_count": 23,
   "metadata": {
    "id": "G9n-7rwqVv8d"
   },
   "outputs": [
    {
     "name": "stdout",
     "output_type": "stream",
     "text": [
      "[0, 1, 1, 2, 3, 5, 8, 13, 21, 34, 55, 89, 144, 233, 377, 610]\n"
     ]
    }
   ],
   "source": [
    "a=0\n",
    "b=0 \n",
    "s=1\n",
    "n=15\n",
    "l=[]\n",
    "for i in range(n+1):\n",
    "    a=b\n",
    "    b=s\n",
    "    s=a+b\n",
    "    l.append(a)\n",
    "print(l)"
   ]
  },
  {
   "cell_type": "code",
   "execution_count": 22,
   "metadata": {},
   "outputs": [
    {
     "name": "stdout",
     "output_type": "stream",
     "text": [
      "[0, 1, 1, 2, 3, 5, 8, 13, 21, 34, 55, 89, 144, 233, 377, 610]\n"
     ]
    }
   ],
   "source": [
    "l=[0,1]\n",
    "for i in range(1,15):\n",
    "    b=l[i]+l[i-1]\n",
    "    l.append(b)\n",
    "print(l)"
   ]
  },
  {
   "cell_type": "code",
   "execution_count": 129,
   "metadata": {},
   "outputs": [
    {
     "data": {
      "text/plain": [
       "[0, 2, 6, 12]"
      ]
     },
     "execution_count": 129,
     "metadata": {},
     "output_type": "execute_result"
    }
   ],
   "source": [
    "#factorial\n",
    "l=[]\n",
    "n=4\n",
    "for i in range(n):\n",
    "    fact=i*(i+1)\n",
    "    l.append(fact)\n",
    "l    "
   ]
  },
  {
   "cell_type": "markdown",
   "metadata": {
    "id": "qofYsgxcW32D"
   },
   "source": [
    "Q.8. Write a Python program to sort one list based on another list containing the desired indexes.\n",
    "\n",
    "* Use zip() and sorted() to combine and sort the two lists, based on the values of indexes.\n",
    "* Use a list comprehension to get the first element of each pair from the result\n",
    "* Use the reverse parameter in sorted() to sort the dictionary in reverse order, based on the third argument\n",
    "\n",
    "l1 = ['eggs', 'bread', 'oranges', 'jam', 'apples', 'milk']\n",
    "\n",
    "l2 = [3, 2, 6, 4, 1, 5]"
   ]
  },
  {
   "cell_type": "code",
   "execution_count": 45,
   "metadata": {
    "id": "OXKaAfTtXGRg"
   },
   "outputs": [
    {
     "name": "stdout",
     "output_type": "stream",
     "text": [
      "[('apples', 1), ('bread', 2), ('eggs', 3), ('jam', 4), ('milk', 5), ('oranges', 6)]\n",
      "[('oranges', 6), ('milk', 5), ('jam', 4), ('eggs', 3), ('bread', 2), ('apples', 1)]\n"
     ]
    }
   ],
   "source": [
    "l1 = ['eggs', 'bread', 'oranges', 'jam', 'apples', 'milk']\n",
    "l2 = [3, 2, 6, 4, 1, 5]\n",
    "l=zip(l1,l2)   #index match and concat\n",
    "l=list(l)\n",
    "l.sort()\n",
    "print(l)\n",
    "l.sort(reverse=True)\n",
    "print(l)"
   ]
  },
  {
   "cell_type": "code",
   "execution_count": 158,
   "metadata": {},
   "outputs": [
    {
     "data": {
      "text/plain": [
       "['eggs', 'bread', 'oranges', 'jam', 'apples', 'milk']"
      ]
     },
     "execution_count": 158,
     "metadata": {},
     "output_type": "execute_result"
    }
   ],
   "source": [
    "[i[0] for i in l]"
   ]
  },
  {
   "cell_type": "markdown",
   "metadata": {
    "id": "ZyjoeuvjYKhw"
   },
   "source": [
    "Q.9.  Write a Python program to find the maximum and minimum value of the three given lists. Go to the editor\n",
    "\n",
    "Original lists:\n",
    "\n",
    "[2, 3, 5, 8, 7, 2, 3]\n",
    "\n",
    "[4, 3, 9, 0, 4, 3, 9]\n",
    "\n",
    "[2, 1, 5, 6, 5, 5, 4]\n",
    "\n",
    "Maximum value of the said three lists : 9\n",
    "\n",
    "Minimum value of the said three lists : 0"
   ]
  },
  {
   "cell_type": "code",
   "execution_count": 20,
   "metadata": {
    "id": "fCla-JvIXIrV"
   },
   "outputs": [
    {
     "name": "stdout",
     "output_type": "stream",
     "text": [
      "9\n",
      "0\n"
     ]
    }
   ],
   "source": [
    "l1=[2, 3, 5, 8, 7, 2, 3]\n",
    "l2=[4, 3, 9, 0, 4, 3, 9]\n",
    "l3=[2, 1, 5, 6, 5, 5, 4]\n",
    "\n",
    "print(max(l1+l2+l3))\n",
    "print(min(l1+l2+l3))\n",
    "    \n",
    "            "
   ]
  },
  {
   "cell_type": "markdown",
   "metadata": {
    "id": "nqVyA5ndYumS"
   },
   "source": [
    "Q.10. Write a Python program to create the smallest possible number using the elements of a given list of positive integers. Go to the editor\n",
    "\n",
    "#### Original list:\n",
    "\n",
    "[3, 40, 41, 43, 74, 9]\n",
    "\n",
    "Smallest possible number using the elements of the said list of positive integers:\n",
    "\n",
    "3404143749\n",
    "\n",
    "#### Original list:\n",
    "\n",
    "[10, 40, 20, 30, 50, 60]\n",
    "\n",
    "Smallest possible number using the elements of the said list of positive integers:\n",
    "\n",
    "102030405060\n",
    "\n",
    "#### Original list:\n",
    "\n",
    "[8, 4, 2, 9, 5, 6, 1, 0]\n",
    "\n",
    "Smallest possible number using the elements of the said list of positive integers:\n",
    "\n",
    "01245689"
   ]
  },
  {
   "cell_type": "code",
   "execution_count": 118,
   "metadata": {
    "id": "fJJdYXuCY48f"
   },
   "outputs": [
    {
     "name": "stdout",
     "output_type": "stream",
     "text": [
      "24568910\n"
     ]
    }
   ],
   "source": [
    "l=[8, 4, 2, 9, 5, 6, 10]\n",
    "l.sort()\n",
    "l1=[]\n",
    "for i in l:\n",
    "    l1.append(str(i))\n",
    "print((''.join(l1)))"
   ]
  },
  {
   "cell_type": "code",
   "execution_count": 119,
   "metadata": {},
   "outputs": [
    {
     "name": "stdout",
     "output_type": "stream",
     "text": [
      "24568910\n"
     ]
    }
   ],
   "source": [
    "l=[8, 4, 2, 9, 5, 6, 10]\n",
    "l.sort()\n",
    "l1=[str(i) for i in l]\n",
    "print(''.join(l1))"
   ]
  },
  {
   "cell_type": "code",
   "execution_count": null,
   "metadata": {},
   "outputs": [],
   "source": []
  }
 ],
 "metadata": {
  "colab": {
   "collapsed_sections": [],
   "name": "Python Data Type: List- Exercises .ipynb",
   "private_outputs": true,
   "provenance": []
  },
  "kernelspec": {
   "display_name": "Python 3",
   "language": "python",
   "name": "python3"
  },
  "language_info": {
   "codemirror_mode": {
    "name": "ipython",
    "version": 3
   },
   "file_extension": ".py",
   "mimetype": "text/x-python",
   "name": "python",
   "nbconvert_exporter": "python",
   "pygments_lexer": "ipython3",
   "version": "3.8.3"
  }
 },
 "nbformat": 4,
 "nbformat_minor": 1
}
